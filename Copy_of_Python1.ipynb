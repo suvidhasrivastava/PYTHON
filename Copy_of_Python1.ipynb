{
  "nbformat": 4,
  "nbformat_minor": 0,
  "metadata": {
    "colab": {
      "provenance": [],
      "authorship_tag": "ABX9TyOeriVuI884/grhEKULxJoN",
      "include_colab_link": true
    },
    "kernelspec": {
      "name": "python3",
      "display_name": "Python 3"
    },
    "language_info": {
      "name": "python"
    }
  },
  "cells": [
    {
      "cell_type": "markdown",
      "metadata": {
        "id": "view-in-github",
        "colab_type": "text"
      },
      "source": [
        "<a href=\"https://colab.research.google.com/github/suvidhasrivastava/PYTHON/blob/main/Copy_of_Python1.ipynb\" target=\"_parent\"><img src=\"https://colab.research.google.com/assets/colab-badge.svg\" alt=\"Open In Colab\"/></a>"
      ]
    },
    {
      "cell_type": "code",
      "execution_count": null,
      "metadata": {
        "id": "0SGfGP6pEDhB",
        "colab": {
          "base_uri": "https://localhost:8080/"
        },
        "outputId": "f428ba50-594f-4202-b899-d5ae9d107a92"
      },
      "outputs": [
        {
          "output_type": "stream",
          "name": "stdout",
          "text": [
            "Hello World!\n"
          ]
        }
      ],
      "source": [
        "print(\"Hello World!\")"
      ]
    },
    {
      "cell_type": "code",
      "source": [
        "name='suvidha'\n",
        "print(\"hello \" + name)"
      ],
      "metadata": {
        "colab": {
          "base_uri": "https://localhost:8080/"
        },
        "id": "yqKgkLbgqjdA",
        "outputId": "8a8888b1-3f76-410c-e05f-945c97642c88"
      },
      "execution_count": null,
      "outputs": [
        {
          "output_type": "stream",
          "name": "stdout",
          "text": [
            "hello suvidha\n"
          ]
        }
      ]
    },
    {
      "cell_type": "code",
      "source": [
        "print(1+2)\n",
        "print(7*5)\n",
        "print((2+3)/5)"
      ],
      "metadata": {
        "colab": {
          "base_uri": "https://localhost:8080/"
        },
        "id": "_4Tr2VaDrWUZ",
        "outputId": "12850e00-5a40-4497-e32e-0aed4222da9d"
      },
      "execution_count": null,
      "outputs": [
        {
          "output_type": "stream",
          "name": "stdout",
          "text": [
            "3\n",
            "35\n",
            "1.0\n"
          ]
        }
      ]
    },
    {
      "cell_type": "code",
      "source": [
        "friends=['Taylor','Alex','Pat','Eli']\n",
        "for friend in friends:\n",
        "  print(\"Hello \" + friend)"
      ],
      "metadata": {
        "colab": {
          "base_uri": "https://localhost:8080/"
        },
        "id": "Wb2QQbeXuAiu",
        "outputId": "3809199d-ad99-421b-c3df-f6eba3b1608d"
      },
      "execution_count": null,
      "outputs": [
        {
          "output_type": "stream",
          "name": "stdout",
          "text": [
            "Hello Taylor\n",
            "Hello Alex\n",
            "Hello Pat\n",
            "Hello Eli\n"
          ]
        }
      ]
    },
    {
      "cell_type": "code",
      "source": [
        "print(type(\"a\"))\n",
        "print(type(2))"
      ],
      "metadata": {
        "id": "LcJ6_AhHuWtu",
        "colab": {
          "base_uri": "https://localhost:8080/"
        },
        "outputId": "ddf37d4b-b8c2-4ab3-cdf3-ca77190e2fcc"
      },
      "execution_count": null,
      "outputs": [
        {
          "output_type": "stream",
          "name": "stdout",
          "text": [
            "<class 'str'>\n",
            "<class 'int'>\n"
          ]
        }
      ]
    },
    {
      "cell_type": "code",
      "source": [
        "length=int(input(\"Enter the length: \"))\n",
        "breadth=int(input(\"Enter the breadth: \"))\n",
        "area=length*breadth\n",
        "print(\"The area of the triangle is: \" + str(area))\n"
      ],
      "metadata": {
        "colab": {
          "base_uri": "https://localhost:8080/"
        },
        "id": "zkMAU49QsvI6",
        "outputId": "abf2b8a4-9aec-4eec-9c62-360cbf744686"
      },
      "execution_count": null,
      "outputs": [
        {
          "output_type": "stream",
          "name": "stdout",
          "text": [
            "Enter the length: 2\n",
            "Enter the breadth: 5\n",
            "The area of the triangle is: 10\n"
          ]
        }
      ]
    },
    {
      "cell_type": "code",
      "source": [
        "print(7+8.5)\n",
        "print(\"a\"+\"b\"+\"c\")"
      ],
      "metadata": {
        "colab": {
          "base_uri": "https://localhost:8080/"
        },
        "id": "UgK9UWMLtrLy",
        "outputId": "05b7b056-322b-4eb1-d405-2acb3a575e3c"
      },
      "execution_count": null,
      "outputs": [
        {
          "output_type": "stream",
          "name": "stdout",
          "text": [
            "15.5\n",
            "abc\n"
          ]
        }
      ]
    },
    {
      "cell_type": "code",
      "source": [
        "def greeting(name):\n",
        "  print(\"Welcome,\" + name)\n",
        "\n",
        "greeting(\"Akshay\")"
      ],
      "metadata": {
        "colab": {
          "base_uri": "https://localhost:8080/"
        },
        "id": "eVHF7UbMbobW",
        "outputId": "25ded90d-9c0c-43fe-bf9c-9336d668f574"
      },
      "execution_count": null,
      "outputs": [
        {
          "output_type": "stream",
          "name": "stdout",
          "text": [
            "Welcome,Akshay\n"
          ]
        }
      ]
    },
    {
      "cell_type": "code",
      "source": [
        "def greeting(name,department):\n",
        "  print(\"Welcome,\" + name)\n",
        "  print(\"You are a part of \" +department)\n",
        "\n",
        "greeting(\"Jiya\",\"CSE\")"
      ],
      "metadata": {
        "colab": {
          "base_uri": "https://localhost:8080/"
        },
        "id": "vwb0UdgwdZz0",
        "outputId": "a1de0d27-cf17-4e3c-d7c6-40ee4968df16"
      },
      "execution_count": null,
      "outputs": [
        {
          "output_type": "stream",
          "name": "stdout",
          "text": [
            "Welcome,Jiya\n",
            "You are a part of CSE\n"
          ]
        }
      ]
    },
    {
      "cell_type": "code",
      "source": [
        "def areaoftriangle(base,height):\n",
        "  return(base*height/2)\n",
        "\n",
        "a1=areaoftriangle(4,8)\n",
        "a2=areaoftriangle(5,10)\n",
        "\n",
        "sum=a1+a2\n",
        "print(\"Sum of areas : \",sum)\n"
      ],
      "metadata": {
        "colab": {
          "base_uri": "https://localhost:8080/"
        },
        "id": "S9GfrOOQgB-4",
        "outputId": "a9f76aa2-5abe-49ab-a825-a45ad2edfafa"
      },
      "execution_count": null,
      "outputs": [
        {
          "output_type": "stream",
          "name": "stdout",
          "text": [
            "Sum of areas :  41.0\n"
          ]
        }
      ]
    },
    {
      "cell_type": "code",
      "source": [
        "def lucky_no(name):\n",
        "  number=len(name)*9\n",
        "  print(\"hello \"+name+\".your lucky number is \"+str(number))\n",
        "\n",
        "lucky_no(\"kay\")"
      ],
      "metadata": {
        "colab": {
          "base_uri": "https://localhost:8080/"
        },
        "id": "MdM7GKMr1k7M",
        "outputId": "6de518f6-5da3-4fcd-ebe1-043cf80dafec"
      },
      "execution_count": null,
      "outputs": [
        {
          "output_type": "stream",
          "name": "stdout",
          "text": [
            "hello kay.your lucky number is 27\n"
          ]
        }
      ]
    },
    {
      "cell_type": "code",
      "source": [
        "print(10>1)\n",
        "print(\"cat\"==\"dog\") #equality operator\n",
        "print(1 != 2)"
      ],
      "metadata": {
        "colab": {
          "base_uri": "https://localhost:8080/"
        },
        "id": "ViEHtLZx9M6L",
        "outputId": "cb611650-1414-4726-cc67-a95d92e87e1e"
      },
      "execution_count": null,
      "outputs": [
        {
          "output_type": "stream",
          "name": "stdout",
          "text": [
            "True\n",
            "False\n",
            "True\n"
          ]
        }
      ]
    },
    {
      "cell_type": "code",
      "source": [
        "def hint_username(username):\n",
        "  if len(username)<3:\n",
        "    print(\"Invalid Username\")\n",
        "  elif len(username)>15:\n",
        "    print(\"Invalid Username\")\n",
        "  else:\n",
        "    print(\"Valid Username\")\n",
        "hint_username(\"Su\")\n",
        "hint_username(\"Suvidha\")\n",
        "hint_username(\"Suvidhaaaaaaaaaaaaaaaaaaaaaaaaaaaaa\")"
      ],
      "metadata": {
        "id": "9PftAmfL9awK",
        "colab": {
          "base_uri": "https://localhost:8080/"
        },
        "outputId": "6e4a90da-f295-40a2-ae9a-d6737002bc04"
      },
      "execution_count": 12,
      "outputs": [
        {
          "output_type": "stream",
          "name": "stdout",
          "text": [
            "Invalid Username\n",
            "Valid Username\n",
            "Invalid Username\n"
          ]
        }
      ]
    },
    {
      "cell_type": "code",
      "source": [
        "def is_positive(number):\n",
        "  if number > 0:\n",
        "    return True\n",
        "  else:\n",
        "    return False\n",
        "is_positive(3)"
      ],
      "metadata": {
        "colab": {
          "base_uri": "https://localhost:8080/"
        },
        "id": "-aYvbHzWrY2e",
        "outputId": "383c15bc-fe4a-4956-ddba-810131f3fc48"
      },
      "execution_count": 8,
      "outputs": [
        {
          "output_type": "execute_result",
          "data": {
            "text/plain": [
              "True"
            ]
          },
          "metadata": {},
          "execution_count": 8
        }
      ]
    },
    {
      "cell_type": "code",
      "source": [
        "def is_even(number):\n",
        "  if number%2==0:\n",
        "    return True\n",
        "  return False\n",
        "is_even(3)\n"
      ],
      "metadata": {
        "colab": {
          "base_uri": "https://localhost:8080/"
        },
        "id": "RpkkGcc-sC_7",
        "outputId": "57b34c52-ab73-4e47-816d-87c02c24e571"
      },
      "execution_count": 10,
      "outputs": [
        {
          "output_type": "execute_result",
          "data": {
            "text/plain": [
              "False"
            ]
          },
          "metadata": {},
          "execution_count": 10
        }
      ]
    },
    {
      "cell_type": "code",
      "source": [
        "def calculate_storage(filesize):\n",
        "    block_size = 4096\n",
        "    # Use floor division to calculate how many blocks are fully occupied\n",
        "    full_blocks = filesize // block_size\n",
        "    # Use the modulo operator to check whether there's any remainder\n",
        "    partial_block_remainder = filesize % block_size\n",
        "    # Depending on whether there's a remainder or not, return\n",
        "    # the total number of bytes required to allocate enough blocks\n",
        "    # to store your data.\n",
        "    if partial_block_remainder > 0:\n",
        "        return full_blocks+1\n",
        "    return full_blocks\n",
        "\n",
        "print(calculate_storage(1))    # Should be 4096\n",
        "print(calculate_storage(4096)) # Should be 4096\n",
        "print(calculate_storage(4097)) # Should be 8192\n",
        "print(calculate_storage(6000)) # Should be 8192"
      ],
      "metadata": {
        "colab": {
          "base_uri": "https://localhost:8080/"
        },
        "id": "05IKBZZAtzJB",
        "outputId": "06d22ab4-397e-4e14-9370-1c96b62f305b"
      },
      "execution_count": 13,
      "outputs": [
        {
          "output_type": "stream",
          "name": "stdout",
          "text": [
            "1\n",
            "1\n",
            "2\n",
            "2\n"
          ]
        }
      ]
    },
    {
      "cell_type": "code",
      "source": [
        "n = 4\n",
        "if n*6 > n**2 or n%2 == 0:\n",
        "    print(\"Check\")"
      ],
      "metadata": {
        "colab": {
          "base_uri": "https://localhost:8080/"
        },
        "id": "EISfzZeP0rHS",
        "outputId": "a2199b6c-3ae2-4413-e504-f309804c40f9"
      },
      "execution_count": 14,
      "outputs": [
        {
          "output_type": "stream",
          "name": "stdout",
          "text": [
            "Check\n"
          ]
        }
      ]
    },
    {
      "cell_type": "code",
      "source": [
        "def greater_value(x, y):\n",
        "    if x > y:\n",
        "        return x\n",
        "    else:\n",
        "       return y\n",
        "\n",
        "\n",
        "print(greater_value(10,3*5))"
      ],
      "metadata": {
        "colab": {
          "base_uri": "https://localhost:8080/"
        },
        "id": "8mM90pYi1naR",
        "outputId": "a5cc1d1a-f62f-45dc-f626-968363ae40e0"
      },
      "execution_count": 15,
      "outputs": [
        {
          "output_type": "stream",
          "name": "stdout",
          "text": [
            "15\n"
          ]
        }
      ]
    }
  ]
}